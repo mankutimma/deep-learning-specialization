{
 "cells": [
  {
   "cell_type": "code",
   "execution_count": 1,
   "metadata": {},
   "outputs": [],
   "source": [
    "import tensorflow as tf\n",
    "import numpy as np"
   ]
  },
  {
   "cell_type": "code",
   "execution_count": 2,
   "metadata": {},
   "outputs": [
    {
     "name": "stdout",
     "output_type": "stream",
     "text": [
      "1.4.0\n"
     ]
    },
    {
     "data": {
      "text/plain": [
       "5"
      ]
     },
     "execution_count": 2,
     "metadata": {},
     "output_type": "execute_result"
    }
   ],
   "source": [
    "print(tf.__version__)\n",
    "c = tf.constant(5)\n",
    "session = tf.Session()\n",
    "session.run(c)"
   ]
  },
  {
   "cell_type": "code",
   "execution_count": 3,
   "metadata": {},
   "outputs": [],
   "source": [
    "w = tf.Variable(initial_value=0, dtype=tf.float32)\n",
    "x = tf.placeholder(shape=[3, 1], dtype=tf.float32)\n",
    "coefficients = np.array([1, -10, 5]).reshape(3,1) #works\n",
    "#coefficients = np.array([[1], [-10], [25]]) #works"
   ]
  },
  {
   "cell_type": "code",
   "execution_count": 4,
   "metadata": {},
   "outputs": [],
   "source": [
    "#cost function to minimize is (w - 5)**2 ==> w = 5 minimizes cost \n",
    "cost = x[0][0]*(w**2) + x[1][0]*w + x[2][0]\n",
    "#train = tf.train.GradientDescentOptimizer(learning_rate=0.01).minimize(cost) #works\n",
    "train = tf.train.AdamOptimizer(beta1=0.9, beta2=0.999, epsilon=10**-8, learning_rate=0.001).minimize(cost) #works better"
   ]
  },
  {
   "cell_type": "code",
   "execution_count": 5,
   "metadata": {},
   "outputs": [],
   "source": [
    "init = tf.global_variables_initializer()\n",
    "session = tf.Session()\n",
    "session.run(init)"
   ]
  },
  {
   "cell_type": "code",
   "execution_count": 6,
   "metadata": {},
   "outputs": [
    {
     "data": {
      "text/plain": [
       "0.0"
      ]
     },
     "execution_count": 6,
     "metadata": {},
     "output_type": "execute_result"
    }
   ],
   "source": [
    "session.run(w)"
   ]
  },
  {
   "cell_type": "code",
   "execution_count": 7,
   "metadata": {},
   "outputs": [],
   "source": [
    "session.run(train, feed_dict={x:coefficients})"
   ]
  },
  {
   "cell_type": "code",
   "execution_count": 8,
   "metadata": {},
   "outputs": [
    {
     "data": {
      "text/plain": [
       "0.001"
      ]
     },
     "execution_count": 8,
     "metadata": {},
     "output_type": "execute_result"
    }
   ],
   "source": [
    "session.run(w)"
   ]
  },
  {
   "cell_type": "code",
   "execution_count": 9,
   "metadata": {},
   "outputs": [
    {
     "data": {
      "text/plain": [
       "5.0"
      ]
     },
     "execution_count": 9,
     "metadata": {},
     "output_type": "execute_result"
    }
   ],
   "source": [
    "for iteration in range(20000):\n",
    "    session.run(train, feed_dict={x:coefficients})\n",
    "session.run(w)"
   ]
  },
  {
   "cell_type": "code",
   "execution_count": 10,
   "metadata": {},
   "outputs": [
    {
     "data": {
      "text/plain": [
       "5.0"
      ]
     },
     "execution_count": 10,
     "metadata": {},
     "output_type": "execute_result"
    }
   ],
   "source": [
    "train_again = tf.train.GradientDescentOptimizer(learning_rate=0.000000001).minimize(cost) #works\n",
    "#train_again = tf.train.AdamOptimizer(beta1=0.9, beta2=0.999, epsilon=10**-8, learning_rate=0.01).minimize(cost) #didn't work\n",
    "#train again from the point where the last training stopped(updated w value)\n",
    "for iteration in range(1000):\n",
    "    session.run(train_again, feed_dict={x:coefficients})\n",
    "session.run(w)"
   ]
  },
  {
   "cell_type": "code",
   "execution_count": 11,
   "metadata": {},
   "outputs": [],
   "source": [
    "#Hmmmm, seems like continueing training with a smaller learning_rate(using gradient descent in both train and train again) didn't help at all as w value never changed!"
   ]
  }
 ],
 "metadata": {
  "kernelspec": {
   "display_name": "Python 3",
   "language": "python",
   "name": "python3"
  },
  "language_info": {
   "codemirror_mode": {
    "name": "ipython",
    "version": 3
   },
   "file_extension": ".py",
   "mimetype": "text/x-python",
   "name": "python",
   "nbconvert_exporter": "python",
   "pygments_lexer": "ipython3",
   "version": "3.6.3"
  }
 },
 "nbformat": 4,
 "nbformat_minor": 2
}
